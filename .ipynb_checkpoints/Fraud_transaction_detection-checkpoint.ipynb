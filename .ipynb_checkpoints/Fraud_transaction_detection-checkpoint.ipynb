{
 "cells": [
  {
   "cell_type": "markdown",
   "metadata": {},
   "source": [
    "# Fraud Transaction Detection"
   ]
  },
  {
   "cell_type": "markdown",
   "metadata": {},
   "source": [
    "we are going to include these features in our dataset:\n",
    "TRANSACTION_ID, TX_DATETIME, CUSTOMER_ID, TERMINAL_ID, TX_AMOUNT, and TX_FRAUD.\n",
    "\n",
    "### Transaction generation process\n",
    "The simulation will consist of five main steps:\n",
    "\n",
    "Generation of customer profiles: Every customer is different in their spending habits. This will be simulated by defining some properties for each customer. The main properties will be their geographical location, their spending frequency, and their spending amounts. The customer properties will be represented as a table, referred to as the customer profile table.\n",
    "\n",
    "Generation of terminal profiles: Terminal properties will simply consist of a geographical location. The terminal properties will be represented as a table, referred to as the terminal profile table.\n",
    "\n",
    "Association of customer profiles to terminals: We will assume that customers only make transactions on terminals that are within a radius of r of their geographical locations. This makes the simple assumption that a customer only makes transactions on terminals that are geographically close to their location. This step will consist of adding a feature ‘list_terminals’ to each customer profile, that contains the set of terminals that a customer can use.\n",
    "\n",
    "Generation of transactions: The simulator will loop over the set of customer profiles, and generate transactions according to their properties (spending frequencies and amounts, and available terminals). This will result in a table of transactions.\n",
    "\n",
    "Generation of fraud scenarios: This last step will label the transactions as legitimate or genuine. This will be done by following three different fraud scenarios.\n",
    "\n",
    "### Customer profile generation \n",
    "CUSTOMER_ID: The customer unique ID\n",
    "\n",
    "(x_customer_id,y_customer_id): A pair of real coordinates (x_customer_id,y_customer_id) in a 100 * 100 grid, that defines the geographical location of the customer\n",
    "\n",
    "(mean_amount, std_amount): The mean and standard deviation of the transaction amounts for the customer, assuming that the transaction amounts follow a normal distribution. The mean_amount will be drawn from a uniform distribution (5,100) and the std_amount will be set as the mean_amount divided by two.\n",
    "\n",
    "mean_nb_tx_per_day: The average number of transactions per day for the customer, assuming that the number of transactions per day follows a Poisson distribution. This number will be drawn from a uniform distribution (0,4)."
   ]
  },
  {
   "cell_type": "code",
   "execution_count": null,
   "metadata": {},
   "outputs": [],
   "source": [
    "import pandas as pd\n",
    "import numpy as np\n",
    "\n",
    "import os\n",
    "import random\n",
    "\n",
    "import matplotlib.pyplot as plt\n",
    "import seaborn as sns"
   ]
  },
  {
   "cell_type": "code",
   "execution_count": null,
   "metadata": {},
   "outputs": [],
   "source": [
    "\n",
    "def customer_profile_generator(no_customer, random_state=0):\n",
    "    np.random.seed(random_state)\n",
    "    customer_id_properties = []\n",
    "    for customer in range(no_customer):\n",
    "        customer_id = customer\n",
    "        x_customer_id = np.random.uniform(0,100)\n",
    "        y_customer_id = np.random.uniform(0,100)\n",
    "        mean_amount = np.random.uniform(5,100)\n",
    "        std_amount = mean_amount/2 #Arbitary value\n",
    "        mean_nb_tx_per_day = np.random.uniform(1,5)\n",
    "        customer_id_properties.append([customer_id, x_customer_id,\n",
    "                                       x_customer_id, mean_amount, \n",
    "                                       std_amount,mean_nb_tx_per_day])\n",
    "    customer_profile_table = pd.DataFrame(customer_id_properties,\n",
    "                                       columns = ['customer_id', 'x_customer_id',\n",
    "                                                   'y_customer_id', 'mean_amount', \n",
    "                                                   'std_amount','mean_nb_tx_per_day'])\n",
    "    return customer_profile_table\n",
    "    \n",
    "    "
   ]
  },
  {
   "cell_type": "code",
   "execution_count": null,
   "metadata": {},
   "outputs": [],
   "source": [
    "no_customers = 5 #input(\"enter the no of customers\")\n",
    "customer_profile = customer_profile_generator(no_customers)\n",
    "customer_profile"
   ]
  },
  {
   "cell_type": "markdown",
   "metadata": {},
   "source": [
    "Now I have succesfully created the customer profile table lets move to next process"
   ]
  },
  {
   "cell_type": "markdown",
   "metadata": {},
   "source": [
    "### Terminal profile generation\n",
    "\n",
    "Each terminal will be defined by the following properties:\n",
    "\n",
    "TERMINAL_ID: The terminal ID\n",
    "\n",
    "(x_terminal_id,y_terminal_id): A pair of real coordinates (x_terminal_id,y_terminal_id) in a 100 * 100 grid, that defines the geographical location of the terminal"
   ]
  },
  {
   "cell_type": "code",
   "execution_count": null,
   "metadata": {},
   "outputs": [],
   "source": [
    "def terminal_profile_generator(no_terminals,random_state=0):\n",
    "    np.random.seed(random_state)\n",
    "    terminal_properties = []\n",
    "    for terminal in range(no_terminals):\n",
    "        terminal_id = terminal\n",
    "        x_terminal_id = np.random.uniform(0,100)\n",
    "        y_terminal_id = np.random.uniform(0,100)\n",
    "        terminal_properties.append([terminal_id, x_terminal_id, y_terminal_id])\n",
    "        \n",
    "    terminal_profile_table = pd.DataFrame(terminal_properties,columns=['terminal_id',\n",
    "                                                                      'x_terminal_id',\n",
    "                                                                      'y_terminal_id'])\n",
    "    return terminal_profile_table\n"
   ]
  },
  {
   "cell_type": "code",
   "execution_count": null,
   "metadata": {},
   "outputs": [],
   "source": [
    "no_terminals = 10\n",
    "terminal_profile = terminal_profile_generator(no_terminals)\n",
    "terminal_profile"
   ]
  },
  {
   "cell_type": "code",
   "execution_count": null,
   "metadata": {},
   "outputs": [],
   "source": [
    "def get_list_terminals_within_radius(customer_profile,x_y_terminals,r):\n",
    "    customer_x_y = customer_profile[['x_customer_id','y_customer_id']].values.astype(float)\n",
    "    #let us get the distance now by differentiating\n",
    "    square_diff = np.square(customer_x_y - x_y_terminals) #applying square to not change the sign values\n",
    "    print(\"square_diff = \",square_diff)\n",
    "    dist_x_y = np.sqrt(np.sum(square_diff,axis=1))\n",
    "    print('dist_x_y = ',dist_x_y)\n",
    "    available_terminals = list(np.where(dist_x_y<r)[0])\n",
    "    \n",
    "    return available_terminals"
   ]
  },
  {
   "cell_type": "code",
   "execution_count": null,
   "metadata": {},
   "outputs": [],
   "source": [
    "x_y_terminals = terminal_profile[['x_terminal_id','y_terminal_id']].values.astype(float)\n",
    "get_list_terminals_within_radius = get_list_terminals_within_radius(customer_profile.iloc[4],x_y_terminals=x_y_terminals,r=50)\n",
    "get_list_terminals_within_radius"
   ]
  },
  {
   "cell_type": "code",
   "execution_count": null,
   "metadata": {},
   "outputs": [],
   "source": []
  },
  {
   "cell_type": "code",
   "execution_count": null,
   "metadata": {},
   "outputs": [],
   "source": []
  }
 ],
 "metadata": {
  "jupytext": {
   "text_representation": {
    "extension": ".md",
    "format_name": "myst",
    "format_version": 0.12,
    "jupytext_version": "1.9.1"
   }
  },
  "kernelspec": {
   "display_name": "Python 3",
   "language": "python",
   "name": "python3"
  },
  "language_info": {
   "codemirror_mode": {
    "name": "ipython",
    "version": 3
   },
   "file_extension": ".py",
   "mimetype": "text/x-python",
   "name": "python",
   "nbconvert_exporter": "python",
   "pygments_lexer": "ipython3",
   "version": "3.8.0"
  }
 },
 "nbformat": 4,
 "nbformat_minor": 4
}

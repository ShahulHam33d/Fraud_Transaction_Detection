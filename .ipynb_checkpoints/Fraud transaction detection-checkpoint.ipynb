{
 "cells": [
  {
   "cell_type": "markdown",
   "metadata": {},
   "source": [
    "# Fraud Transaction Detection"
   ]
  },
  {
   "cell_type": "markdown",
   "metadata": {},
   "source": [
    "we are going to include these features in our dataset:\n",
    "TRANSACTION_ID, TX_DATETIME, CUSTOMER_ID, TERMINAL_ID, TX_AMOUNT, and TX_FRAUD.\n",
    "\n",
    "### Transaction generation process\n",
    "The simulation will consist of five main steps:\n",
    "\n",
    "Generation of customer profiles: Every customer is different in their spending habits. This will be simulated by defining some properties for each customer. The main properties will be their geographical location, their spending frequency, and their spending amounts. The customer properties will be represented as a table, referred to as the customer profile table.\n",
    "\n",
    "Generation of terminal profiles: Terminal properties will simply consist of a geographical location. The terminal properties will be represented as a table, referred to as the terminal profile table.\n",
    "\n",
    "Association of customer profiles to terminals: We will assume that customers only make transactions on terminals that are within a radius of r of their geographical locations. This makes the simple assumption that a customer only makes transactions on terminals that are geographically close to their location. This step will consist of adding a feature ‘list_terminals’ to each customer profile, that contains the set of terminals that a customer can use.\n",
    "\n",
    "Generation of transactions: The simulator will loop over the set of customer profiles, and generate transactions according to their properties (spending frequencies and amounts, and available terminals). This will result in a table of transactions.\n",
    "\n",
    "Generation of fraud scenarios: This last step will label the transactions as legitimate or genuine. This will be done by following three different fraud scenarios.\n",
    "\n",
    "### Customer profile generation \n",
    "CUSTOMER_ID: The customer unique ID\n",
    "\n",
    "(x_customer_id,y_customer_id): A pair of real coordinates (x_customer_id,y_customer_id) in a 100 * 100 grid, that defines the geographical location of the customer\n",
    "\n",
    "(mean_amount, std_amount): The mean and standard deviation of the transaction amounts for the customer, assuming that the transaction amounts follow a normal distribution. The mean_amount will be drawn from a uniform distribution (5,100) and the std_amount will be set as the mean_amount divided by two.\n",
    "\n",
    "mean_nb_tx_per_day: The average number of transactions per day for the customer, assuming that the number of transactions per day follows a Poisson distribution. This number will be drawn from a uniform distribution (0,4)."
   ]
  },
  {
   "cell_type": "code",
   "execution_count": 1,
   "metadata": {},
   "outputs": [],
   "source": [
    "import numpy as np\n",
    "import pandas as pd\n",
    "def customer_profile_generator(no_customer, random_state=0):\n",
    "    np.random.seed(random_state)\n",
    "    customer_id_properties = []\n",
    "    for customer in range(no_customer):\n",
    "        customer_id = customer\n",
    "        x_customer_id = np.random.uniform(0,100)\n",
    "        y_customer_id = np.random.uniform(0,100)\n",
    "        mean_amount = np.random.uniform(5,100)\n",
    "        std_amount = mean_amount/2 #Arbitary value\n",
    "        mean_nb_tx_per_day = np.random.uniform(1,5)\n",
    "        customer_id_properties.append([customer_id, x_customer_id,\n",
    "                                       x_customer_id, mean_amount, \n",
    "                                       std_amount,mean_nb_tx_per_day])\n",
    "    customer_profile_table = pd.DataFrame(customer_id_properties,\n",
    "                                       columns = ['customer_id', 'x_customer_id',\n",
    "                                                   'y_customer_id', 'mean_amount', \n",
    "                                                   'std_amount','mean_nb_tx_per_day'])\n",
    "    return customer_profile_table\n",
    "    \n",
    "    "
   ]
  },
  {
   "cell_type": "code",
   "execution_count": 2,
   "metadata": {},
   "outputs": [
    {
     "data": {
      "text/html": [
       "<div>\n",
       "<style scoped>\n",
       "    .dataframe tbody tr th:only-of-type {\n",
       "        vertical-align: middle;\n",
       "    }\n",
       "\n",
       "    .dataframe tbody tr th {\n",
       "        vertical-align: top;\n",
       "    }\n",
       "\n",
       "    .dataframe thead th {\n",
       "        text-align: right;\n",
       "    }\n",
       "</style>\n",
       "<table border=\"1\" class=\"dataframe\">\n",
       "  <thead>\n",
       "    <tr style=\"text-align: right;\">\n",
       "      <th></th>\n",
       "      <th>customer_id</th>\n",
       "      <th>x_customer_id</th>\n",
       "      <th>y_customer_id</th>\n",
       "      <th>mean_amount</th>\n",
       "      <th>std_amount</th>\n",
       "      <th>mean_nb_tx_per_day</th>\n",
       "    </tr>\n",
       "  </thead>\n",
       "  <tbody>\n",
       "    <tr>\n",
       "      <th>0</th>\n",
       "      <td>0</td>\n",
       "      <td>54.881350</td>\n",
       "      <td>54.881350</td>\n",
       "      <td>62.262521</td>\n",
       "      <td>31.131260</td>\n",
       "      <td>3.179533</td>\n",
       "    </tr>\n",
       "    <tr>\n",
       "      <th>1</th>\n",
       "      <td>1</td>\n",
       "      <td>42.365480</td>\n",
       "      <td>42.365480</td>\n",
       "      <td>46.570785</td>\n",
       "      <td>23.285393</td>\n",
       "      <td>4.567092</td>\n",
       "    </tr>\n",
       "    <tr>\n",
       "      <th>2</th>\n",
       "      <td>2</td>\n",
       "      <td>96.366276</td>\n",
       "      <td>96.366276</td>\n",
       "      <td>80.213879</td>\n",
       "      <td>40.106939</td>\n",
       "      <td>3.115580</td>\n",
       "    </tr>\n",
       "    <tr>\n",
       "      <th>3</th>\n",
       "      <td>3</td>\n",
       "      <td>56.804456</td>\n",
       "      <td>56.804456</td>\n",
       "      <td>11.748426</td>\n",
       "      <td>5.874213</td>\n",
       "      <td>1.348517</td>\n",
       "    </tr>\n",
       "    <tr>\n",
       "      <th>4</th>\n",
       "      <td>4</td>\n",
       "      <td>2.021840</td>\n",
       "      <td>2.021840</td>\n",
       "      <td>78.924891</td>\n",
       "      <td>39.462446</td>\n",
       "      <td>4.480049</td>\n",
       "    </tr>\n",
       "  </tbody>\n",
       "</table>\n",
       "</div>"
      ],
      "text/plain": [
       "   customer_id  x_customer_id  y_customer_id  mean_amount  std_amount  \\\n",
       "0            0      54.881350      54.881350    62.262521   31.131260   \n",
       "1            1      42.365480      42.365480    46.570785   23.285393   \n",
       "2            2      96.366276      96.366276    80.213879   40.106939   \n",
       "3            3      56.804456      56.804456    11.748426    5.874213   \n",
       "4            4       2.021840       2.021840    78.924891   39.462446   \n",
       "\n",
       "   mean_nb_tx_per_day  \n",
       "0            3.179533  \n",
       "1            4.567092  \n",
       "2            3.115580  \n",
       "3            1.348517  \n",
       "4            4.480049  "
      ]
     },
     "execution_count": 2,
     "metadata": {},
     "output_type": "execute_result"
    }
   ],
   "source": [
    "no_customers = 5 #input(\"enter the no of customers\")\n",
    "customer_profile = customer_profile_generator(no_customers)\n",
    "customer_profile"
   ]
  },
  {
   "cell_type": "markdown",
   "metadata": {},
   "source": [
    "Now I have succesfully created the customer profile table lets move to next process"
   ]
  },
  {
   "cell_type": "markdown",
   "metadata": {},
   "source": [
    "### Terminal profile generation\n",
    "\n",
    "Each terminal will be defined by the following properties:\n",
    "\n",
    "TERMINAL_ID: The terminal ID\n",
    "\n",
    "(x_terminal_id,y_terminal_id): A pair of real coordinates (x_terminal_id,y_terminal_id) in a 100 * 100 grid, that defines the geographical location of the terminal"
   ]
  },
  {
   "cell_type": "code",
   "execution_count": 3,
   "metadata": {},
   "outputs": [],
   "source": [
    "def terminal_profile_generator(no_terminals,random_state=0):\n",
    "    np.random.seed(random_state)\n",
    "    terminal_properties = []\n",
    "    for terminal in range(no_terminals):\n",
    "        terminal_id = terminal\n",
    "        x_terminal_id = np.random.uniform(0,100)\n",
    "        y_terminal_id = np.random.uniform(0,100)\n",
    "        terminal_properties.append([terminal_id, x_terminal_id, y_terminal_id])\n",
    "        \n",
    "    terminal_profile_table = pd.DataFrame(terminal_properties,columns=['terminal_id',\n",
    "                                                                      'x_terminal_id',\n",
    "                                                                      'y_terminal_id'])\n",
    "    return terminal_profile_table\n"
   ]
  },
  {
   "cell_type": "code",
   "execution_count": 4,
   "metadata": {},
   "outputs": [
    {
     "data": {
      "text/html": [
       "<div>\n",
       "<style scoped>\n",
       "    .dataframe tbody tr th:only-of-type {\n",
       "        vertical-align: middle;\n",
       "    }\n",
       "\n",
       "    .dataframe tbody tr th {\n",
       "        vertical-align: top;\n",
       "    }\n",
       "\n",
       "    .dataframe thead th {\n",
       "        text-align: right;\n",
       "    }\n",
       "</style>\n",
       "<table border=\"1\" class=\"dataframe\">\n",
       "  <thead>\n",
       "    <tr style=\"text-align: right;\">\n",
       "      <th></th>\n",
       "      <th>terminal_id</th>\n",
       "      <th>x_terminal_id</th>\n",
       "      <th>y_terminal_id</th>\n",
       "    </tr>\n",
       "  </thead>\n",
       "  <tbody>\n",
       "    <tr>\n",
       "      <th>0</th>\n",
       "      <td>0</td>\n",
       "      <td>54.881350</td>\n",
       "      <td>71.518937</td>\n",
       "    </tr>\n",
       "    <tr>\n",
       "      <th>1</th>\n",
       "      <td>1</td>\n",
       "      <td>60.276338</td>\n",
       "      <td>54.488318</td>\n",
       "    </tr>\n",
       "    <tr>\n",
       "      <th>2</th>\n",
       "      <td>2</td>\n",
       "      <td>42.365480</td>\n",
       "      <td>64.589411</td>\n",
       "    </tr>\n",
       "    <tr>\n",
       "      <th>3</th>\n",
       "      <td>3</td>\n",
       "      <td>43.758721</td>\n",
       "      <td>89.177300</td>\n",
       "    </tr>\n",
       "    <tr>\n",
       "      <th>4</th>\n",
       "      <td>4</td>\n",
       "      <td>96.366276</td>\n",
       "      <td>38.344152</td>\n",
       "    </tr>\n",
       "    <tr>\n",
       "      <th>5</th>\n",
       "      <td>5</td>\n",
       "      <td>79.172504</td>\n",
       "      <td>52.889492</td>\n",
       "    </tr>\n",
       "    <tr>\n",
       "      <th>6</th>\n",
       "      <td>6</td>\n",
       "      <td>56.804456</td>\n",
       "      <td>92.559664</td>\n",
       "    </tr>\n",
       "    <tr>\n",
       "      <th>7</th>\n",
       "      <td>7</td>\n",
       "      <td>7.103606</td>\n",
       "      <td>8.712930</td>\n",
       "    </tr>\n",
       "    <tr>\n",
       "      <th>8</th>\n",
       "      <td>8</td>\n",
       "      <td>2.021840</td>\n",
       "      <td>83.261985</td>\n",
       "    </tr>\n",
       "    <tr>\n",
       "      <th>9</th>\n",
       "      <td>9</td>\n",
       "      <td>77.815675</td>\n",
       "      <td>87.001215</td>\n",
       "    </tr>\n",
       "  </tbody>\n",
       "</table>\n",
       "</div>"
      ],
      "text/plain": [
       "   terminal_id  x_terminal_id  y_terminal_id\n",
       "0            0      54.881350      71.518937\n",
       "1            1      60.276338      54.488318\n",
       "2            2      42.365480      64.589411\n",
       "3            3      43.758721      89.177300\n",
       "4            4      96.366276      38.344152\n",
       "5            5      79.172504      52.889492\n",
       "6            6      56.804456      92.559664\n",
       "7            7       7.103606       8.712930\n",
       "8            8       2.021840      83.261985\n",
       "9            9      77.815675      87.001215"
      ]
     },
     "execution_count": 4,
     "metadata": {},
     "output_type": "execute_result"
    }
   ],
   "source": [
    "no_terminals = 10\n",
    "terminal_profile = terminal_profile_generator(no_terminals)\n",
    "terminal_profile"
   ]
  },
  {
   "cell_type": "code",
   "execution_count": 5,
   "metadata": {},
   "outputs": [],
   "source": [
    "def get_list_terminals_within_radius(customer_profile,x_y_terminals,r):\n",
    "    customer_x_y = customer_profile[['x_customer_id','y_customer_id']].values.astype(float)\n",
    "    #let us get the distance now by differentiating\n",
    "    square_diff = np.square(customer_x_y - x_y_terminals) #applying square to not change the sign values\n",
    "    print(\"square_diff = \",square_diff)\n",
    "    dist_x_y = np.sqrt(np.sum(square_diff,axis=1))\n",
    "    print('dist_x_y = ',dist_x_y)\n",
    "    available_terminals = list(np.where(dist_x_y<r)[0])\n",
    "    \n",
    "    return available_terminals"
   ]
  },
  {
   "cell_type": "code",
   "execution_count": 6,
   "metadata": {},
   "outputs": [
    {
     "name": "stdout",
     "output_type": "stream",
     "text": [
      "square_diff =  [[2794.12786602 4829.84647658]\n",
      " [3393.58652129 2752.73137203]\n",
      " [1627.60930377 3914.70101125]\n",
      " [1741.96726751 7596.07426606]\n",
      " [8900.87266191 1319.31035909]\n",
      " [5952.22496555 2587.51804352]\n",
      " [3001.13505583 8197.09759009]\n",
      " [  25.82434645   44.77068841]\n",
      " [   0.         6599.96112887]\n",
      " [5744.70547721 7221.4941891 ]]\n",
      "dist_x_y =  [ 87.31537289  78.39845594  74.44669445  96.63354249 101.09492085\n",
      "  92.41072995 105.82170215   8.40208515  81.24014481 113.86922177]\n"
     ]
    },
    {
     "data": {
      "text/plain": [
       "[7]"
      ]
     },
     "execution_count": 6,
     "metadata": {},
     "output_type": "execute_result"
    }
   ],
   "source": [
    "x_y_terminals = terminal_profile[['x_terminal_id','y_terminal_id']].values.astype(float)\n",
    "get_list_terminals_within_radius = get_list_terminals_within_radius(customer_profile.iloc[4],x_y_terminals=x_y_terminals,r=50)\n",
    "get_list_terminals_within_radius"
   ]
  },
  {
   "cell_type": "code",
   "execution_count": null,
   "metadata": {},
   "outputs": [],
   "source": []
  }
 ],
 "metadata": {
  "jupytext": {
   "text_representation": {
    "extension": ".md",
    "format_name": "myst",
    "format_version": 0.12,
    "jupytext_version": "1.9.1"
   }
  },
  "kernelspec": {
   "display_name": "Python 3",
   "language": "python",
   "name": "python3"
  },
  "language_info": {
   "codemirror_mode": {
    "name": "ipython",
    "version": 3
   },
   "file_extension": ".py",
   "mimetype": "text/x-python",
   "name": "python",
   "nbconvert_exporter": "python",
   "pygments_lexer": "ipython3",
   "version": "3.8.0"
  }
 },
 "nbformat": 4,
 "nbformat_minor": 4
}
